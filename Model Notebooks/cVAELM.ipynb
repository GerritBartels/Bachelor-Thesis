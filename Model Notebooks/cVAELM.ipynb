{
  "cells": [
    {
      "cell_type": "markdown",
      "metadata": {
        "id": "8u5uVwE6zpG7"
      },
      "source": [
        "# **cVAELM**"
      ]
    },
    {
      "cell_type": "markdown",
      "metadata": {
        "id": "eq-XSN1ic_Nk"
      },
      "source": [
        "## **Imports**"
      ]
    },
    {
      "cell_type": "code",
      "execution_count": 1,
      "metadata": {
        "id": "bGbnnolMeS5A"
      },
      "outputs": [],
      "source": [
        "import csv\n",
        "import tensorflow as tf\n",
        "from tqdm.auto import tqdm \n",
        "from gensim.models import Word2Vec\n",
        "import tensorflow_probability as tfp\n",
        "tfd = tfp.distributions\n",
        "\n",
        "# Adapt this variable to the path of the cloned repository\n",
        "path = \"YourPathHere\"\n",
        "\n",
        "# For importing custom modules\n",
        "import sys\n",
        "sys.path.append(f'{path}/Modules')"
      ]
    },
    {
      "cell_type": "markdown",
      "metadata": {
        "id": "3k_uz7db0EW_"
      },
      "source": [
        "Mount google drive:"
      ]
    },
    {
      "cell_type": "code",
      "execution_count": 2,
      "metadata": {
        "colab": {
          "base_uri": "https://localhost:8080/"
        },
        "id": "ZOmHgJzyI9cQ",
        "outputId": "236c43db-53d4-4414-e45b-ba4e0ce8a94c"
      },
      "outputs": [
        {
          "output_type": "stream",
          "name": "stdout",
          "text": [
            "Mounted at /content/drive\n"
          ]
        }
      ],
      "source": [
        "from google.colab import drive\n",
        "drive.mount('/content/drive', force_remount=True)"
      ]
    },
    {
      "cell_type": "markdown",
      "source": [
        "# **Hyperparameters**"
      ],
      "metadata": {
        "id": "oM9IVZrKJ55g"
      }
    },
    {
      "cell_type": "code",
      "source": [
        "EMBEDDING_SIZE = 256 \n",
        "HIDDEN_SIZE = 1024    \n",
        "LEARNING_RATE = 0.0005\n",
        "NUM_EPOCHS = 180\n",
        "NUM_CYCLES = 30\n",
        "BATCH_SIZE = 256"
      ],
      "metadata": {
        "id": "DNKRUufZKAPd"
      },
      "execution_count": 3,
      "outputs": []
    },
    {
      "cell_type": "markdown",
      "metadata": {
        "id": "J9H_EpgSrNzx"
      },
      "source": [
        "## **Dataset**"
      ]
    },
    {
      "cell_type": "code",
      "source": [
        "from helper_functions import dataset_cleanup"
      ],
      "metadata": {
        "id": "tjl628Mpjjkd"
      },
      "execution_count": 4,
      "outputs": []
    },
    {
      "cell_type": "code",
      "execution_count": 5,
      "metadata": {
        "id": "8YeHVAiWgD4R"
      },
      "outputs": [],
      "source": [
        "data_path =  f\"{path}/Dataset/news_data_preprocessed.csv\"\n",
        "min_sent_len=10\n",
        "max_sent_len=28\n",
        "\n",
        "cleaned_data, max_seq_length = dataset_cleanup(data_path=data_path, \n",
        "                                               min_sent_len=min_sent_len, \n",
        "                                               max_sent_len=max_sent_len)"
      ]
    },
    {
      "cell_type": "code",
      "source": [
        "# Create data for training, consisting of (input,target,teacher) pairs\n",
        "train_data = []\n",
        "for sent in cleaned_data:\n",
        "    train_data.append((sent, sent[1:], sent[:-1]))"
      ],
      "metadata": {
        "id": "F4GturfK-q-p"
      },
      "execution_count": 6,
      "outputs": []
    },
    {
      "cell_type": "markdown",
      "metadata": {
        "id": "EiWQ5WDIrf8d"
      },
      "source": [
        "### **Train word2vec embeddings**"
      ]
    },
    {
      "cell_type": "markdown",
      "metadata": {
        "id": "V2jYEg8J0iNb"
      },
      "source": [
        "We use gensim's word2vec function that trains a skip-gram model (with negative sampling) for 50 epochs to create 256 dimensional word embeddings:"
      ]
    },
    {
      "cell_type": "code",
      "execution_count": null,
      "metadata": {
        "id": "n2OYup8ZYBcB"
      },
      "outputs": [],
      "source": [
        "word2vec_model = Word2Vec(sentences=cleaned_data, size=EMBEDDING_SIZE, window=5, min_count=1, workers=24, sg=1, negative=50, iter=50)\n",
        "# Save the trained embeddings\n",
        "word2vec_model.save(f\"{path}/Skip-Gram Embeddings/skip-gram_embeddings.model\")"
      ]
    },
    {
      "cell_type": "code",
      "execution_count": null,
      "metadata": {
        "id": "BcChWYjyui9I"
      },
      "outputs": [],
      "source": [
        "# Load previously saved embeddings\n",
        "word2vec_model = Word2Vec.load(f\"{path}/Skip-Gram Embeddings/skip-gram_embeddings.model\")\n",
        "\n",
        "print(\"Examine the trained embeddings: \")\n",
        "word2vec_model.most_similar(\"<NUM>\", topn=10)"
      ]
    },
    {
      "cell_type": "markdown",
      "metadata": {
        "id": "X9WYEwEn4K3_"
      },
      "source": [
        "Import custom function that converts the word2vec model word vectors into a numpy matrix that is suitable for insertion into our TensorFlow/Keras embedding layer:"
      ]
    },
    {
      "cell_type": "code",
      "source": [
        "from helper_functions import word2vec_to_matrix"
      ],
      "metadata": {
        "id": "j3rGYxSip5qy"
      },
      "execution_count": 8,
      "outputs": []
    },
    {
      "cell_type": "code",
      "source": [
        "embedding_matrix, vocab_size = word2vec_to_matrix(word2vec_model=word2vec_model, embedding_size=EMBEDDING_SIZE, create_unk=True)"
      ],
      "metadata": {
        "id": "bSRI6xFdp7-j"
      },
      "execution_count": null,
      "outputs": []
    },
    {
      "cell_type": "markdown",
      "metadata": {
        "id": "OSeo1hiw7exG"
      },
      "source": [
        "Create a word2index dict in order to convert each token in our train_data dataset to its respective index in the embedding matrix:"
      ]
    },
    {
      "cell_type": "code",
      "execution_count": null,
      "metadata": {
        "id": "A_POdYnI2FSQ"
      },
      "outputs": [],
      "source": [
        "word2index_dict = {token: token_index for token_index, token in enumerate(word2vec_model.wv.index2word)}\n",
        "\n",
        "sent2index_input = []\n",
        "sent2index_target = []\n",
        "sent2index_teacher_forcing = []\n",
        "\n",
        "for input, target, teacher in train_data:\n",
        "    input = [word2index_dict[key] for key in input]\n",
        "    target = [word2index_dict[key] for key in target]\n",
        "    # Replace 50% of the teacher forcing words with the <UNK> token \n",
        "    teacher = [word2index_dict[key] if tf.random.uniform(shape=[1], dtype=tf.dtypes.float32) <= 0.5 else word2index_dict[\"<UNK>\"] for key in teacher]\n",
        "    sent2index_input.append(input)\n",
        "    sent2index_target.append(target)\n",
        "    sent2index_teacher_forcing.append(teacher)\n",
        "\n",
        "# Take a look at one input, target, teacher pair\n",
        "print(\"Input sentence: \")\n",
        "print(sent2index_input[0])\n",
        "print(\" \".join([word2vec_model.wv.index2word[i] for i in sent2index_input[0]]))\n",
        "print()\n",
        "print(\"Target sentence: \")\n",
        "print(sent2index_target[0])\n",
        "print(\" \".join([word2vec_model.wv.index2word[i] for i in sent2index_target[0]]))\n",
        "print()\n",
        "print(\"Teacher sentence: \")\n",
        "print(sent2index_teacher_forcing[0])\n",
        "print(\" \".join([word2vec_model.wv.index2word[i] for i in sent2index_teacher_forcing[0]]))"
      ]
    },
    {
      "cell_type": "markdown",
      "metadata": {
        "id": "Rsxk2T0g60Dw"
      },
      "source": [
        "Extract the indices of the **sos** and **eos** tokens for the inference mode:"
      ]
    },
    {
      "cell_type": "code",
      "execution_count": null,
      "metadata": {
        "id": "LZ8oFT0xI9cc"
      },
      "outputs": [],
      "source": [
        "start_token = word2index_dict[\"<Start>\"]\n",
        "end_token = word2index_dict[\"<End>\"]\n",
        "print(f\"<Start>: {start_token}\")\n",
        "print(f\"<End>: {end_token}\")"
      ]
    },
    {
      "cell_type": "markdown",
      "metadata": {
        "id": "3afipGVpARj8"
      },
      "source": [
        "### **Data Pipeline**\n",
        "Creating tf.Dataset objects that are then cached, shuffled, batched and prefetched for efficient training.\n"
      ]
    },
    {
      "cell_type": "markdown",
      "metadata": {
        "id": "m6Kx9DFzr9Ul"
      },
      "source": [
        "Train data is of form (input, target, teacher), where:\n",
        "\n",
        "\n",
        "*   **Input** contains the sentences that will be fed into the encoder of our cVAELM.\n",
        "\n",
        "*   **Target** contains the sentences that will be used to calculate the loss of our cVAELM.\n",
        "\n",
        "*   **Teacher** contains the sentences that will be used as the input for the decoder during training since we use teacher forcing.\n",
        "\n",
        "\n",
        "\n",
        "\n",
        "\n",
        "\n"
      ]
    },
    {
      "cell_type": "code",
      "execution_count": 13,
      "metadata": {
        "id": "uj5MvNLRAQqS"
      },
      "outputs": [],
      "source": [
        "# We split the data into train data (85%) and test data (15%)\n",
        "train_dataset_input = tf.data.Dataset.from_tensor_slices(sent2index_input[:int(len(sent2index_input)*0.85)])\n",
        "train_dataset_target = tf.data.Dataset.from_tensor_slices(sent2index_target[:int(len(sent2index_target)*0.85)])\n",
        "train_dataset_teacher = tf.data.Dataset.from_tensor_slices(sent2index_teacher_forcing[:int(len(sent2index_teacher_forcing)*0.85)])\n",
        "\n",
        "train_dataset = tf.data.Dataset.zip((train_dataset_input, train_dataset_target, train_dataset_teacher)).cache().shuffle(buffer_size=500000, reshuffle_each_iteration=True).batch(BATCH_SIZE, drop_remainder=True).prefetch(tf.data.experimental.AUTOTUNE)\n",
        "\n",
        "\n",
        "# Repeat for test data\n",
        "test_dataset_input = tf.data.Dataset.from_tensor_slices(sent2index_input[int(len(sent2index_input)*0.85):-1])\n",
        "test_dataset_target = tf.data.Dataset.from_tensor_slices(sent2index_target[int(len(sent2index_target)*0.85):-1])\n",
        "test_dataset_teacher = tf.data.Dataset.from_tensor_slices(sent2index_teacher_forcing[int(len(sent2index_teacher_forcing)*0.85):-1])\n",
        "\n",
        "test_dataset = tf.data.Dataset.zip((test_dataset_input, test_dataset_target, test_dataset_teacher)).cache().shuffle(buffer_size=50000, reshuffle_each_iteration=True).batch(BATCH_SIZE, drop_remainder=True).prefetch(tf.data.experimental.AUTOTUNE)"
      ]
    },
    {
      "cell_type": "markdown",
      "source": [
        "## **Training**"
      ],
      "metadata": {
        "id": "8fxiSlTa0kd5"
      }
    },
    {
      "cell_type": "code",
      "source": [
        "from cvaelm import CVAELM, trainModel"
      ],
      "metadata": {
        "id": "E5XQHXkH0reP"
      },
      "execution_count": 14,
      "outputs": []
    },
    {
      "cell_type": "markdown",
      "metadata": {
        "id": "Uwo6TOvLUG3A"
      },
      "source": [
        "Define the prior distribution:"
      ]
    },
    {
      "cell_type": "code",
      "execution_count": 15,
      "metadata": {
        "id": "I5QYC3LfI9cd"
      },
      "outputs": [],
      "source": [
        "prior = tfd.Independent(tfd.Normal(loc=tf.zeros(HIDDEN_SIZE), scale=1), reinterpreted_batch_ndims=1)"
      ]
    },
    {
      "cell_type": "markdown",
      "metadata": {
        "id": "NTi3AW4rkd5m"
      },
      "source": [
        "Create and train the model:\n",
        "\n",
        "*Note: The peaks occur in the epoch after the kl weight reset*"
      ]
    },
    {
      "cell_type": "code",
      "source": [
        "News_cVAELM = CVAELM(vocab_size=vocab_size, \n",
        "                     prior=prior, \n",
        "                     embedding_matrix=embedding_matrix, \n",
        "                     embedding_size=EMBEDDING_SIZE, \n",
        "                     hidden_size=HIDDEN_SIZE)"
      ],
      "metadata": {
        "id": "jzTTj0mBPJdl"
      },
      "execution_count": 16,
      "outputs": []
    },
    {
      "cell_type": "code",
      "execution_count": null,
      "metadata": {
        "id": "FLWFM3NiI9ce"
      },
      "outputs": [],
      "source": [
        "save_path = \"YourPathHere\"\n",
        "save_every = 1 # Number of epochs before saving model weights and plots\n",
        "\n",
        "# Use sum for loss, see: https://stats.stackexchange.com/questions/502314/variational-autoencoder-balance-kl-divergence-and-reconstructionloss\n",
        "# loss: reduction=tf.keras.losses.Reduction.SUM\n",
        "trainModel(model=News_cVAELM, \n",
        "           word2vec_model=word2vec_model,\n",
        "           save_every=save_every,\n",
        "           save_path=save_path, \n",
        "           train_dataset=train_dataset,\n",
        "           test_dataset=test_dataset, \n",
        "           loss_function=tf.keras.losses.SparseCategoricalCrossentropy(reduction=tf.keras.losses.Reduction.SUM), \n",
        "           num_epochs=NUM_EPOCHS, \n",
        "           num_cycles=NUM_CYCLES, \n",
        "           learning_rate=LEARNING_RATE)"
      ]
    },
    {
      "cell_type": "markdown",
      "metadata": {
        "id": "pgTiHOySqev5"
      },
      "source": [
        "## **Evaluation**"
      ]
    },
    {
      "cell_type": "markdown",
      "metadata": {
        "id": "RwKb293mq4uX"
      },
      "source": [
        "Import evaluation module:"
      ]
    },
    {
      "cell_type": "code",
      "execution_count": 18,
      "metadata": {
        "id": "RBc-0h9EpUQh"
      },
      "outputs": [],
      "source": [
        "import evaluation"
      ]
    },
    {
      "cell_type": "markdown",
      "metadata": {
        "id": "P1fH-OWHqn4v"
      },
      "source": [
        "Load the trained model:"
      ]
    },
    {
      "cell_type": "code",
      "execution_count": null,
      "metadata": {
        "id": "AFIdBXQVI9ce"
      },
      "outputs": [],
      "source": [
        "News_cVAELM = CVAELM(vocab_size=vocab_size, \n",
        "                     prior=prior, \n",
        "                     embedding_matrix=embedding_matrix, \n",
        "                     embedding_size=EMBEDDING_SIZE, \n",
        "                     hidden_size=HIDDEN_SIZE)\n",
        "News_cVAELM.compile()\n",
        "\n",
        "# Feed input through the network to ensure correct loading of the weights \n",
        "hs = News_cVAELM.Encoder(tf.convert_to_tensor([sent2index_input[-5]]))\n",
        "hs = tf.convert_to_tensor(hs)\n",
        "out = News_cVAELM.Decoder.inference_mode(start_token=start_token, end_token=end_token, max_seq_length=max_seq_length, states=hs)\n",
        "\n",
        "News_cVAELM.load_weights(f\"{path}/Model Weights/Thesis_Model_Weights/cVAELM\")"
      ]
    },
    {
      "cell_type": "markdown",
      "source": [
        "Model Summaries:"
      ],
      "metadata": {
        "id": "Vs4OvrTjE8K2"
      }
    },
    {
      "cell_type": "code",
      "source": [
        "for input, taget, teacher in train_dataset.take(1):\n",
        "    News_cVAELM(input, teacher)"
      ],
      "metadata": {
        "id": "yay9wH8NDWjx"
      },
      "execution_count": 21,
      "outputs": []
    },
    {
      "cell_type": "code",
      "source": [
        "News_cVAELM.Encoder.summary()"
      ],
      "metadata": {
        "id": "dwdaEX8JEKLs"
      },
      "execution_count": null,
      "outputs": []
    },
    {
      "cell_type": "code",
      "source": [
        "News_cVAELM.Decoder.summary()"
      ],
      "metadata": {
        "id": "oN47550jENuB"
      },
      "execution_count": null,
      "outputs": []
    },
    {
      "cell_type": "markdown",
      "metadata": {
        "id": "cmxsr6FfygX6"
      },
      "source": [
        "Create csv containing sentences for InferSent: "
      ]
    },
    {
      "cell_type": "code",
      "execution_count": null,
      "metadata": {
        "id": "1QhPpRIdd0NO"
      },
      "outputs": [],
      "source": [
        "sentences = []\n",
        "for _ in tqdm(range(10000)):\n",
        "    sample = tf.expand_dims(prior.sample(), axis=0)\n",
        "    sentences.append([word2vec_model.wv.index2word[i.numpy()[0]] for i in News_cVAELM.Decoder.inference_mode(start_token=start_token, \n",
        "                                                                                                             end_token=end_token, \n",
        "                                                                                                             max_seq_length=max_seq_length-1, \n",
        "                                                                                                             states=sample)])\n",
        "\n",
        "with open(f\"{path}/Evaluation/FID/News_cVAELM_InferSent.csv\", \"w\", encoding='utf8', newline=\"\") as output_file:\n",
        "    writer = csv.writer(output_file)\n",
        "    writer.writerows(sentences)"
      ]
    },
    {
      "cell_type": "markdown",
      "metadata": {
        "id": "ecPJV5S8qpwN"
      },
      "source": [
        "Generate Sentences:"
      ]
    },
    {
      "cell_type": "code",
      "execution_count": null,
      "metadata": {
        "id": "niy57eNZBNzM"
      },
      "outputs": [],
      "source": [
        "evaluation.generate_sentences(model=News_cVAELM.Decoder, \n",
        "                              index_decoder=word2vec_model.wv.index2word, \n",
        "                              print_sentences=True,\n",
        "                              model_name=\"News_cVAELM\",\n",
        "                              latent_sample_gen=prior,\n",
        "                              num_sent=10,\n",
        "                              start_token=start_token,\n",
        "                              end_token=end_token,\n",
        "                              max_seq_length=max_seq_length)"
      ]
    },
    {
      "cell_type": "markdown",
      "metadata": {
        "id": "vTLaU5FwKE-K"
      },
      "source": [
        "Average Sentence Length:"
      ]
    },
    {
      "cell_type": "code",
      "execution_count": null,
      "metadata": {
        "id": "q-RJLHCfKAPy"
      },
      "outputs": [],
      "source": [
        "evaluation.generate_sentences(model=News_cVAELM.Decoder,\n",
        "                              index_decoder=word2vec_model.wv.index2word,\n",
        "                              print_sentences=False,\n",
        "                              model_name=\"News_cVAELM\",\n",
        "                              latent_sample_gen=prior,\n",
        "                              num_sent=10000,\n",
        "                              start_token=start_token,\n",
        "                              end_token=end_token,\n",
        "                              max_seq_length=max_seq_length)"
      ]
    },
    {
      "cell_type": "markdown",
      "metadata": {
        "id": "IX5-kGgOulnr"
      },
      "source": [
        "Prepare the reference data used for Bleu, Self-Bleu and Word Frequency calculations:"
      ]
    },
    {
      "cell_type": "code",
      "source": [
        "reference_data = []\n",
        "for sent in sent2index_target[int(len(sent2index_target)*0.85):int(len(sent2index_target)*0.85)+10000]:\n",
        "    temp = []\n",
        "    for token_id in sent:\n",
        "        if token_id == end_token:\n",
        "            break\n",
        "        temp.append(word2vec_model.wv.index2word[token_id])\n",
        "    reference_data.append(temp)"
      ],
      "metadata": {
        "id": "tYnkm-VPNv3B"
      },
      "execution_count": 26,
      "outputs": []
    },
    {
      "cell_type": "markdown",
      "source": [
        "Calculate JS Distance for sentence length frequencies and word counts:"
      ],
      "metadata": {
        "id": "vP46mxTfa1pn"
      }
    },
    {
      "cell_type": "code",
      "source": [
        "jsd_sents, jsd_words = evaluation.js_distance(model=News_cVAELM.Decoder,\n",
        "                                              reference_data=reference_data,\n",
        "                                              index_decoder=word2vec_model.wv.index2word,\n",
        "                                              model_name=\"News_cVAELM\",\n",
        "                                              latent_sample_gen=prior,\n",
        "                                              start_token=start_token,\n",
        "                                              end_token=end_token,\n",
        "                                              max_seq_length=max_seq_length)\n",
        "\n",
        "print(f\"Jensen-Shannon distance for the sentence length frequencies: {jsd_sents}\")\n",
        "print(f\"Jensen-Shannon distance for the word counts: {jsd_words}\")"
      ],
      "metadata": {
        "id": "xEfba8x5a_j3"
      },
      "execution_count": null,
      "outputs": []
    },
    {
      "cell_type": "markdown",
      "metadata": {
        "id": "snlBKLJytG3b"
      },
      "source": [
        "Calculate Bleu-4 Score:"
      ]
    },
    {
      "cell_type": "code",
      "execution_count": null,
      "metadata": {
        "id": "G9XUVsh0fgit"
      },
      "outputs": [],
      "source": [
        "evaluation.bleu_score(model=News_cVAELM.Decoder, \n",
        "                      index_decoder=word2vec_model.wv.index2word, \n",
        "                      reference_data=reference_data, \n",
        "                      model_name=\"News_cVAELM\", \n",
        "                      latent_sample_gen=prior, \n",
        "                      num_sent=10000, \n",
        "                      n_grams=4, \n",
        "                      start_token=start_token, \n",
        "                      end_token=end_token, \n",
        "                      max_seq_length=max_seq_length)"
      ]
    },
    {
      "cell_type": "markdown",
      "metadata": {
        "id": "Elgzb12xtLbl"
      },
      "source": [
        "Calculate Self-Bleu-4 Score:"
      ]
    },
    {
      "cell_type": "code",
      "execution_count": null,
      "metadata": {
        "id": "B2WGovvc1maP"
      },
      "outputs": [],
      "source": [
        "evaluation.self_bleu_score(model=News_cVAELM.Decoder, \n",
        "                           index_decoder=word2vec_model.wv.index2word, \n",
        "                           model_name=\"News_cVAELM\", \n",
        "                           latent_sample_gen=prior, \n",
        "                           num_sent=10000, \n",
        "                           n_grams=4, \n",
        "                           start_token=start_token, \n",
        "                           end_token=end_token, \n",
        "                           max_seq_length=max_seq_length)"
      ]
    },
    {
      "cell_type": "markdown",
      "metadata": {
        "id": "SeD4zCmctP5e"
      },
      "source": [
        "Count Word Frequency:"
      ]
    },
    {
      "cell_type": "code",
      "execution_count": 27,
      "metadata": {
        "id": "6xjtYaZEWubE",
        "colab": {
          "base_uri": "https://localhost:8080/",
          "height": 49,
          "referenced_widgets": [
            "caf45f9ed5364a8398b4a5adc4917231",
            "a1bfff046ea044aca34c06856c83b713",
            "6cdcdd2b4dff4cb6bc8d912c8e0f2c9e",
            "db5fdd69113440478418aecfb7c53ae0",
            "ca7d7ac366ad47a88d3cc7c5cd0c49be",
            "caec7808564a41d0b8a467c148114bb7",
            "f787ecf788974406958b32c06db4ffb4",
            "7e9fb0c2442640cc86e72bff9f5fa462",
            "d9cafccf128742f699d0f14910afd14f",
            "a2c001f54a2a4db186476d6ef907c113",
            "7d6799286587491c9c5350e19bd617ce"
          ]
        },
        "outputId": "214b46ba-f921-461f-b214-3da7da014a3a"
      },
      "outputs": [
        {
          "output_type": "display_data",
          "data": {
            "text/plain": [
              "  0%|          | 0/100 [00:00<?, ?it/s]"
            ],
            "application/vnd.jupyter.widget-view+json": {
              "version_major": 2,
              "version_minor": 0,
              "model_id": "caf45f9ed5364a8398b4a5adc4917231"
            }
          },
          "metadata": {}
        }
      ],
      "source": [
        "top_k = 12\n",
        "ref_freq, gen_freq = evaluation.word_freq(model=News_cVAELM.Decoder, \n",
        "                                          reference_data=reference_data, \n",
        "                                          index_decoder=word2vec_model.wv.index2word, \n",
        "                                          model_name=\"News_cVAELM\", \n",
        "                                          latent_sample_gen=prior, \n",
        "                                          start_token=start_token, \n",
        "                                          end_token=end_token, \n",
        "                                          max_seq_length=max_seq_length)"
      ]
    },
    {
      "cell_type": "code",
      "execution_count": null,
      "metadata": {
        "id": "9LHTh0SVWubE"
      },
      "outputs": [],
      "source": [
        "list(ref_freq.items())[:top_k]"
      ]
    },
    {
      "cell_type": "code",
      "execution_count": null,
      "metadata": {
        "id": "MS-3u15sWubE"
      },
      "outputs": [],
      "source": [
        "list(gen_freq.items())[:top_k]"
      ]
    },
    {
      "cell_type": "markdown",
      "metadata": {
        "id": "HIzNib5GHG4i"
      },
      "source": [
        "Word frequency plot:"
      ]
    },
    {
      "cell_type": "code",
      "source": [
        "save_path = \"YourPathHere\"\n",
        "evaluation.word_freq_plots(reference_freq_dict=ref_freq, \n",
        "                           generated_freq_dict=gen_freq, \n",
        "                           top_k=top_k,\n",
        "                           save_plots=False, \n",
        "                           save_path=save_path)"
      ],
      "metadata": {
        "id": "PA1xEuL0Tm7Y"
      },
      "execution_count": null,
      "outputs": []
    }
  ],
  "metadata": {
    "colab": {
      "collapsed_sections": [
        "iUXl75FMI9cd",
        "uAqvBu74eBPz"
      ],
      "provenance": []
    },
    "kernelspec": {
      "display_name": "Python 3",
      "language": "python",
      "name": "python3"
    },
    "language_info": {
      "codemirror_mode": {
        "name": "ipython",
        "version": 3
      },
      "file_extension": ".py",
      "mimetype": "text/x-python",
      "name": "python",
      "nbconvert_exporter": "python",
      "pygments_lexer": "ipython3",
      "version": "3.7.10"
    },
    "widgets": {
      "application/vnd.jupyter.widget-state+json": {
        "caf45f9ed5364a8398b4a5adc4917231": {
          "model_module": "@jupyter-widgets/controls",
          "model_name": "HBoxModel",
          "model_module_version": "1.5.0",
          "state": {
            "_dom_classes": [],
            "_model_module": "@jupyter-widgets/controls",
            "_model_module_version": "1.5.0",
            "_model_name": "HBoxModel",
            "_view_count": null,
            "_view_module": "@jupyter-widgets/controls",
            "_view_module_version": "1.5.0",
            "_view_name": "HBoxView",
            "box_style": "",
            "children": [
              "IPY_MODEL_a1bfff046ea044aca34c06856c83b713",
              "IPY_MODEL_6cdcdd2b4dff4cb6bc8d912c8e0f2c9e",
              "IPY_MODEL_db5fdd69113440478418aecfb7c53ae0"
            ],
            "layout": "IPY_MODEL_ca7d7ac366ad47a88d3cc7c5cd0c49be"
          }
        },
        "a1bfff046ea044aca34c06856c83b713": {
          "model_module": "@jupyter-widgets/controls",
          "model_name": "HTMLModel",
          "model_module_version": "1.5.0",
          "state": {
            "_dom_classes": [],
            "_model_module": "@jupyter-widgets/controls",
            "_model_module_version": "1.5.0",
            "_model_name": "HTMLModel",
            "_view_count": null,
            "_view_module": "@jupyter-widgets/controls",
            "_view_module_version": "1.5.0",
            "_view_name": "HTMLView",
            "description": "",
            "description_tooltip": null,
            "layout": "IPY_MODEL_caec7808564a41d0b8a467c148114bb7",
            "placeholder": "​",
            "style": "IPY_MODEL_f787ecf788974406958b32c06db4ffb4",
            "value": "100%"
          }
        },
        "6cdcdd2b4dff4cb6bc8d912c8e0f2c9e": {
          "model_module": "@jupyter-widgets/controls",
          "model_name": "FloatProgressModel",
          "model_module_version": "1.5.0",
          "state": {
            "_dom_classes": [],
            "_model_module": "@jupyter-widgets/controls",
            "_model_module_version": "1.5.0",
            "_model_name": "FloatProgressModel",
            "_view_count": null,
            "_view_module": "@jupyter-widgets/controls",
            "_view_module_version": "1.5.0",
            "_view_name": "ProgressView",
            "bar_style": "success",
            "description": "",
            "description_tooltip": null,
            "layout": "IPY_MODEL_7e9fb0c2442640cc86e72bff9f5fa462",
            "max": 100,
            "min": 0,
            "orientation": "horizontal",
            "style": "IPY_MODEL_d9cafccf128742f699d0f14910afd14f",
            "value": 100
          }
        },
        "db5fdd69113440478418aecfb7c53ae0": {
          "model_module": "@jupyter-widgets/controls",
          "model_name": "HTMLModel",
          "model_module_version": "1.5.0",
          "state": {
            "_dom_classes": [],
            "_model_module": "@jupyter-widgets/controls",
            "_model_module_version": "1.5.0",
            "_model_name": "HTMLModel",
            "_view_count": null,
            "_view_module": "@jupyter-widgets/controls",
            "_view_module_version": "1.5.0",
            "_view_name": "HTMLView",
            "description": "",
            "description_tooltip": null,
            "layout": "IPY_MODEL_a2c001f54a2a4db186476d6ef907c113",
            "placeholder": "​",
            "style": "IPY_MODEL_7d6799286587491c9c5350e19bd617ce",
            "value": " 100/100 [00:10&lt;00:00, 10.15it/s]"
          }
        },
        "ca7d7ac366ad47a88d3cc7c5cd0c49be": {
          "model_module": "@jupyter-widgets/base",
          "model_name": "LayoutModel",
          "model_module_version": "1.2.0",
          "state": {
            "_model_module": "@jupyter-widgets/base",
            "_model_module_version": "1.2.0",
            "_model_name": "LayoutModel",
            "_view_count": null,
            "_view_module": "@jupyter-widgets/base",
            "_view_module_version": "1.2.0",
            "_view_name": "LayoutView",
            "align_content": null,
            "align_items": null,
            "align_self": null,
            "border": null,
            "bottom": null,
            "display": null,
            "flex": null,
            "flex_flow": null,
            "grid_area": null,
            "grid_auto_columns": null,
            "grid_auto_flow": null,
            "grid_auto_rows": null,
            "grid_column": null,
            "grid_gap": null,
            "grid_row": null,
            "grid_template_areas": null,
            "grid_template_columns": null,
            "grid_template_rows": null,
            "height": null,
            "justify_content": null,
            "justify_items": null,
            "left": null,
            "margin": null,
            "max_height": null,
            "max_width": null,
            "min_height": null,
            "min_width": null,
            "object_fit": null,
            "object_position": null,
            "order": null,
            "overflow": null,
            "overflow_x": null,
            "overflow_y": null,
            "padding": null,
            "right": null,
            "top": null,
            "visibility": null,
            "width": null
          }
        },
        "caec7808564a41d0b8a467c148114bb7": {
          "model_module": "@jupyter-widgets/base",
          "model_name": "LayoutModel",
          "model_module_version": "1.2.0",
          "state": {
            "_model_module": "@jupyter-widgets/base",
            "_model_module_version": "1.2.0",
            "_model_name": "LayoutModel",
            "_view_count": null,
            "_view_module": "@jupyter-widgets/base",
            "_view_module_version": "1.2.0",
            "_view_name": "LayoutView",
            "align_content": null,
            "align_items": null,
            "align_self": null,
            "border": null,
            "bottom": null,
            "display": null,
            "flex": null,
            "flex_flow": null,
            "grid_area": null,
            "grid_auto_columns": null,
            "grid_auto_flow": null,
            "grid_auto_rows": null,
            "grid_column": null,
            "grid_gap": null,
            "grid_row": null,
            "grid_template_areas": null,
            "grid_template_columns": null,
            "grid_template_rows": null,
            "height": null,
            "justify_content": null,
            "justify_items": null,
            "left": null,
            "margin": null,
            "max_height": null,
            "max_width": null,
            "min_height": null,
            "min_width": null,
            "object_fit": null,
            "object_position": null,
            "order": null,
            "overflow": null,
            "overflow_x": null,
            "overflow_y": null,
            "padding": null,
            "right": null,
            "top": null,
            "visibility": null,
            "width": null
          }
        },
        "f787ecf788974406958b32c06db4ffb4": {
          "model_module": "@jupyter-widgets/controls",
          "model_name": "DescriptionStyleModel",
          "model_module_version": "1.5.0",
          "state": {
            "_model_module": "@jupyter-widgets/controls",
            "_model_module_version": "1.5.0",
            "_model_name": "DescriptionStyleModel",
            "_view_count": null,
            "_view_module": "@jupyter-widgets/base",
            "_view_module_version": "1.2.0",
            "_view_name": "StyleView",
            "description_width": ""
          }
        },
        "7e9fb0c2442640cc86e72bff9f5fa462": {
          "model_module": "@jupyter-widgets/base",
          "model_name": "LayoutModel",
          "model_module_version": "1.2.0",
          "state": {
            "_model_module": "@jupyter-widgets/base",
            "_model_module_version": "1.2.0",
            "_model_name": "LayoutModel",
            "_view_count": null,
            "_view_module": "@jupyter-widgets/base",
            "_view_module_version": "1.2.0",
            "_view_name": "LayoutView",
            "align_content": null,
            "align_items": null,
            "align_self": null,
            "border": null,
            "bottom": null,
            "display": null,
            "flex": null,
            "flex_flow": null,
            "grid_area": null,
            "grid_auto_columns": null,
            "grid_auto_flow": null,
            "grid_auto_rows": null,
            "grid_column": null,
            "grid_gap": null,
            "grid_row": null,
            "grid_template_areas": null,
            "grid_template_columns": null,
            "grid_template_rows": null,
            "height": null,
            "justify_content": null,
            "justify_items": null,
            "left": null,
            "margin": null,
            "max_height": null,
            "max_width": null,
            "min_height": null,
            "min_width": null,
            "object_fit": null,
            "object_position": null,
            "order": null,
            "overflow": null,
            "overflow_x": null,
            "overflow_y": null,
            "padding": null,
            "right": null,
            "top": null,
            "visibility": null,
            "width": null
          }
        },
        "d9cafccf128742f699d0f14910afd14f": {
          "model_module": "@jupyter-widgets/controls",
          "model_name": "ProgressStyleModel",
          "model_module_version": "1.5.0",
          "state": {
            "_model_module": "@jupyter-widgets/controls",
            "_model_module_version": "1.5.0",
            "_model_name": "ProgressStyleModel",
            "_view_count": null,
            "_view_module": "@jupyter-widgets/base",
            "_view_module_version": "1.2.0",
            "_view_name": "StyleView",
            "bar_color": null,
            "description_width": ""
          }
        },
        "a2c001f54a2a4db186476d6ef907c113": {
          "model_module": "@jupyter-widgets/base",
          "model_name": "LayoutModel",
          "model_module_version": "1.2.0",
          "state": {
            "_model_module": "@jupyter-widgets/base",
            "_model_module_version": "1.2.0",
            "_model_name": "LayoutModel",
            "_view_count": null,
            "_view_module": "@jupyter-widgets/base",
            "_view_module_version": "1.2.0",
            "_view_name": "LayoutView",
            "align_content": null,
            "align_items": null,
            "align_self": null,
            "border": null,
            "bottom": null,
            "display": null,
            "flex": null,
            "flex_flow": null,
            "grid_area": null,
            "grid_auto_columns": null,
            "grid_auto_flow": null,
            "grid_auto_rows": null,
            "grid_column": null,
            "grid_gap": null,
            "grid_row": null,
            "grid_template_areas": null,
            "grid_template_columns": null,
            "grid_template_rows": null,
            "height": null,
            "justify_content": null,
            "justify_items": null,
            "left": null,
            "margin": null,
            "max_height": null,
            "max_width": null,
            "min_height": null,
            "min_width": null,
            "object_fit": null,
            "object_position": null,
            "order": null,
            "overflow": null,
            "overflow_x": null,
            "overflow_y": null,
            "padding": null,
            "right": null,
            "top": null,
            "visibility": null,
            "width": null
          }
        },
        "7d6799286587491c9c5350e19bd617ce": {
          "model_module": "@jupyter-widgets/controls",
          "model_name": "DescriptionStyleModel",
          "model_module_version": "1.5.0",
          "state": {
            "_model_module": "@jupyter-widgets/controls",
            "_model_module_version": "1.5.0",
            "_model_name": "DescriptionStyleModel",
            "_view_count": null,
            "_view_module": "@jupyter-widgets/base",
            "_view_module_version": "1.2.0",
            "_view_name": "StyleView",
            "description_width": ""
          }
        }
      }
    },
    "accelerator": "GPU"
  },
  "nbformat": 4,
  "nbformat_minor": 0
}